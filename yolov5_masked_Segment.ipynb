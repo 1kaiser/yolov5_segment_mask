{
  "cells": [
    {
      "cell_type": "markdown",
      "metadata": {
        "id": "view-in-github",
        "colab_type": "text"
      },
      "source": [
        "<a href=\"https://colab.research.google.com/github/1kaiser/yolov5_segment_mask/blob/master/yolov5_masked_Segment.ipynb\" target=\"_parent\"><img src=\"https://colab.research.google.com/assets/colab-badge.svg\" alt=\"Open In Colab\"/></a>"
      ]
    },
    {
      "cell_type": "markdown",
      "metadata": {
        "id": "YHwxO-9vw5MV"
      },
      "source": [
        "[![Open In Colab](https://colab.research.google.com/assets/colab-badge.svg)](https://colab.research.google.com/github/1kaiser/yolov5_segment_mask/blob/master/yolov5_masked_Segment.ipynb)"
      ]
    },
    {
      "cell_type": "markdown",
      "source": [
        "## **YOLOv5** ***Masked Segment*** ultralytics"
      ],
      "metadata": {
        "id": "5i-vNeX9I8iX"
      }
    },
    {
      "cell_type": "code",
      "source": [
        "%cd ."
      ],
      "metadata": {
        "id": "VxwAy7a0I8iY"
      },
      "execution_count": null,
      "outputs": []
    },
    {
      "cell_type": "code",
      "source": [
        "!git clone https://github.com/ultralytics/yolov5  # clone\n",
        "%cd yolov5\n",
        "%pip install -qr requirements.txt  # install\n",
        "\n",
        "import torch\n",
        "import utils\n",
        "display = utils.notebook_init()  # checks"
      ],
      "metadata": {
        "id": "wpmSehIgI8iY"
      },
      "execution_count": null,
      "outputs": []
    },
    {
      "cell_type": "code",
      "source": [
        "!rm -r /content/models/yolov5s6.pt\n",
        "!wget https://github.com/ultralytics/yolov5/releases/download/v7.0/yolov5x-seg.pt -O /content/models/yolov5m-seg.pt\n",
        "#!wget https://github.com/ultralytics/yolov5/releases/download/v7.0/yolov5m-seg.pt -O /content/models/yolov5m-seg.pt"
      ],
      "metadata": {
        "id": "WWIgwrP0I8iY"
      },
      "execution_count": null,
      "outputs": []
    },
    {
      "cell_type": "code",
      "source": [
        "# download YOLOV5S6 model to 'models/yolov5s6.pt'\n",
        "yolov5_model_path = 'models/yolov5m-seg.pt'\n",
        "download_yolov5s6_model(destination_path=yolov5_model_path)\n",
        "\n",
        "# download test images into demo_data folder\n",
        "download_from_url('https://raw.githubusercontent.com/obss/sahi/main/demo/demo_data/small-vehicles1.jpeg', 'demo_data/small-vehicles1.jpeg')\n",
        "download_from_url('https://raw.githubusercontent.com/obss/sahi/main/demo/demo_data/terrain2.png', 'demo_data/terrain2.png')"
      ],
      "metadata": {
        "id": "Jr7IZoypI8iY"
      },
      "execution_count": null,
      "outputs": []
    },
    {
      "cell_type": "code",
      "source": [
        "!python segment/predict.py \\\n",
        "--weights yolov5s-seg.pt \\\n",
        "--img 640 \\\n",
        "--conf 0.25 \\\n",
        "--update \\\n",
        "--source /content/demo_data \\\n",
        "--project /content \\\n",
        "--exist-ok \\\n",
        "--hide-conf \\\n",
        "--hide-labels \\\n",
        "--line-thickness 0 \\\n",
        "--classes 0 \\\n",
        "--retina-masks\n",
        "#display.Image(filename='runs/predict-seg/exp/zidane.jpg', width=600)"
      ],
      "metadata": {
        "id": "nc8aKu1hI8iY"
      },
      "execution_count": null,
      "outputs": []
    },
    {
      "cell_type": "markdown",
      "source": [
        "# SAHI Sliced Inference with a YOLOv5 Model"
      ],
      "metadata": {
        "id": "X-f3ZWzEI2xX"
      }
    },
    {
      "cell_type": "markdown",
      "metadata": {
        "id": "RVaLleKFw5MW"
      },
      "source": [
        "## 0. Preperation"
      ]
    },
    {
      "cell_type": "markdown",
      "metadata": {
        "id": "ge8NHLuqw5MW"
      },
      "source": [
        "- Install latest version of SAHI and YOLOv5:"
      ]
    },
    {
      "cell_type": "code",
      "execution_count": null,
      "metadata": {
        "id": "Vjj8T6ZBw5MX"
      },
      "outputs": [],
      "source": [
        "!python -m pip install -U torch sahi yolov5\n",
        "exit()"
      ]
    },
    {
      "cell_type": "code",
      "execution_count": null,
      "metadata": {
        "id": "sKAP4XR7w5MX"
      },
      "outputs": [],
      "source": [
        "import os\n",
        "os.getcwd()"
      ]
    },
    {
      "cell_type": "markdown",
      "metadata": {
        "id": "BXSgKudWw5MX"
      },
      "source": [
        "- Import required modules:"
      ]
    },
    {
      "cell_type": "code",
      "execution_count": null,
      "metadata": {
        "id": "cfc3N5g-w5MY"
      },
      "outputs": [],
      "source": [
        "# arrange an instance segmentation model for test\n",
        "from sahi.utils.yolov5 import (\n",
        "    download_yolov5s6_model,\n",
        ")\n",
        "\n",
        "# import required functions, classes\n",
        "from sahi import AutoDetectionModel\n",
        "from sahi.utils.cv import read_image\n",
        "from sahi.utils.file import download_from_url\n",
        "from sahi.predict import get_prediction, get_sliced_prediction, predict\n",
        "from IPython.display import Image"
      ]
    },
    {
      "cell_type": "code",
      "source": [
        "# !rm -r /content/models/yolov5s6.pt\n",
        "# !wget https://github.com/ultralytics/yolov5/releases/download/v7.0/yolov5x-seg.pt -O /content/models/yolov5m-seg.pt\n",
        "# #!wget https://github.com/ultralytics/yolov5/releases/download/v7.0/yolov5m-seg.pt -O /content/models/yolov5m-seg.pt"
      ],
      "metadata": {
        "id": "cNnRSLo8HFKF"
      },
      "execution_count": null,
      "outputs": []
    },
    {
      "cell_type": "markdown",
      "metadata": {
        "id": "yt8PXOGuw5MY"
      },
      "source": [
        "- Download a yolov5 model and two test images:"
      ]
    },
    {
      "cell_type": "code",
      "execution_count": null,
      "metadata": {
        "id": "9wnPnebGw5MY"
      },
      "outputs": [],
      "source": [
        "# download YOLOV5S6 model to 'models/yolov5s6.pt'\n",
        "yolov5_model_path = 'models/yolov5m-seg.pt'\n",
        "download_yolov5s6_model(destination_path=yolov5_model_path)\n",
        "\n",
        "# download test images into demo_data folder\n",
        "download_from_url('https://raw.githubusercontent.com/obss/sahi/main/demo/demo_data/small-vehicles1.jpeg', 'demo_data/small-vehicles1.jpeg')\n",
        "download_from_url('https://raw.githubusercontent.com/obss/sahi/main/demo/demo_data/terrain2.png', 'demo_data/terrain2.png')"
      ]
    },
    {
      "cell_type": "markdown",
      "metadata": {
        "id": "W19mECizw5MY"
      },
      "source": [
        "## 1. Standard Inference with a YOLOv5 Model"
      ]
    },
    {
      "cell_type": "markdown",
      "metadata": {
        "id": "rc-orCauw5MY"
      },
      "source": [
        "- Instantiate a detection model by defining model weight path and other parameters:"
      ]
    },
    {
      "cell_type": "code",
      "execution_count": null,
      "metadata": {
        "id": "KwcA-_hgw5MY"
      },
      "outputs": [],
      "source": [
        "detection_model = AutoDetectionModel.from_pretrained(\n",
        "    model_type='yolov5',\n",
        "    model_path=yolov5_model_path,\n",
        "    confidence_threshold=0.3,\n",
        "    device=\"cpu\", # or 'cuda:0'\n",
        ")"
      ]
    },
    {
      "cell_type": "markdown",
      "metadata": {
        "id": "dZShlv0lw5MZ"
      },
      "source": [
        "- Perform prediction by feeding the get_prediction function with an image path and a DetectionModel instance:"
      ]
    },
    {
      "cell_type": "code",
      "execution_count": null,
      "metadata": {
        "id": "Gfep3rMKw5MZ"
      },
      "outputs": [],
      "source": [
        "result = get_prediction(\"/content/demo_data/m.jpg\", detection_model)"
      ]
    },
    {
      "cell_type": "markdown",
      "metadata": {
        "id": "dm05ISacw5MZ"
      },
      "source": [
        "- Or perform prediction by feeding the get_prediction function with a numpy image and a DetectionModel instance:"
      ]
    },
    {
      "cell_type": "code",
      "execution_count": null,
      "metadata": {
        "id": "w4HXZWpjw5MZ"
      },
      "outputs": [],
      "source": [
        "result = get_prediction(read_image(\"/content/demo_data/m.jpg\"), detection_model)"
      ]
    },
    {
      "cell_type": "markdown",
      "metadata": {
        "id": "HTy27XGEw5MZ"
      },
      "source": [
        "- Visualize predicted bounding boxes and masks over the original image:"
      ]
    },
    {
      "cell_type": "code",
      "execution_count": null,
      "metadata": {
        "id": "s00vmY3uw5MZ"
      },
      "outputs": [],
      "source": [
        "result.export_visuals(export_dir=\"demo_data/\")\n",
        "\n",
        "Image(\"/content/demo_data/m.jpg\")"
      ]
    },
    {
      "cell_type": "markdown",
      "metadata": {
        "id": "zStyB2dhw5Ma"
      },
      "source": [
        "## 2. Sliced Inference with a YOLOv5 Model"
      ]
    },
    {
      "cell_type": "markdown",
      "metadata": {
        "id": "0Y575UGkw5Ma"
      },
      "source": [
        "- To perform sliced prediction we need to specify slice parameters. In this example we will perform prediction over slices of 256x256 with an overlap ratio of 0.2:"
      ]
    },
    {
      "cell_type": "code",
      "execution_count": null,
      "metadata": {
        "id": "RXkYxNX-w5Ma"
      },
      "outputs": [],
      "source": [
        "result = get_sliced_prediction(\n",
        "    \"/content/demo_data/m.jpg\",\n",
        "    detection_model,\n",
        "    slice_height = 256,\n",
        "    slice_width = 256,\n",
        "    overlap_height_ratio = 0.2,\n",
        "    overlap_width_ratio = 0.2\n",
        ")"
      ]
    },
    {
      "cell_type": "markdown",
      "metadata": {
        "id": "G_ZkQyX1w5Ma"
      },
      "source": [
        "- Visualize predicted bounding boxes and masks over the original image:"
      ]
    },
    {
      "cell_type": "code",
      "execution_count": null,
      "metadata": {
        "id": "FfmuEO_Ww5Ma"
      },
      "outputs": [],
      "source": [
        "result.export_visuals(export_dir=\"demo_data/\")\n",
        "\n",
        "Image(\"demo_data/prediction_visual.png\")"
      ]
    },
    {
      "cell_type": "markdown",
      "metadata": {
        "id": "MiavVTxNw5Ma"
      },
      "source": [
        "## 3. Prediction Result"
      ]
    },
    {
      "cell_type": "markdown",
      "metadata": {
        "id": "oppi0JRLw5Ma"
      },
      "source": [
        "- Predictions are returned as [sahi.prediction.PredictionResult](sahi/prediction.py), you can access the object prediction list as:"
      ]
    },
    {
      "cell_type": "code",
      "execution_count": null,
      "metadata": {
        "id": "_rUR9jUgw5Mb"
      },
      "outputs": [],
      "source": [
        "object_prediction_list = result.object_prediction_list"
      ]
    },
    {
      "cell_type": "code",
      "execution_count": null,
      "metadata": {
        "id": "THJeZM3Tw5Mb"
      },
      "outputs": [],
      "source": [
        "object_prediction_list"
      ]
    },
    {
      "cell_type": "markdown",
      "metadata": {
        "id": "Rc6X6pU6w5Mb"
      },
      "source": [
        "- ObjectPrediction's can be converted to [COCO annotation](https://cocodataset.org/#format-data) format:"
      ]
    },
    {
      "cell_type": "code",
      "execution_count": null,
      "metadata": {
        "id": "atCjpVv6w5Mb"
      },
      "outputs": [],
      "source": [
        "result.to_coco_annotations()[:3]"
      ]
    },
    {
      "cell_type": "markdown",
      "metadata": {
        "id": "3kgu5LSgw5Mb"
      },
      "source": [
        "- ObjectPrediction's can be converted to [COCO prediction](https://github.com/i008/COCO-dataset-explorer) format:"
      ]
    },
    {
      "cell_type": "code",
      "execution_count": null,
      "metadata": {
        "id": "-I2f-reaw5Mb"
      },
      "outputs": [],
      "source": [
        "result.to_coco_predictions(image_id=1)[:3]"
      ]
    },
    {
      "cell_type": "markdown",
      "metadata": {
        "id": "Pq8AdRPCw5Mb"
      },
      "source": [
        "- ObjectPrediction's can be converted to [imantics](https://github.com/jsbroks/imantics) annotation format:"
      ]
    },
    {
      "cell_type": "code",
      "execution_count": null,
      "metadata": {
        "id": "cKiRe_Trw5Mb"
      },
      "outputs": [],
      "source": [
        "result.to_imantics_annotations()[:3]"
      ]
    },
    {
      "cell_type": "markdown",
      "metadata": {
        "id": "vk25HS8Zw5Mb"
      },
      "source": [
        "- ObjectPrediction's can be converted to [fiftyone](https://github.com/voxel51/fiftyone) detection format:"
      ]
    },
    {
      "cell_type": "code",
      "execution_count": null,
      "metadata": {
        "id": "wWILPBNBw5Mc"
      },
      "outputs": [],
      "source": [
        "result.to_fiftyone_detections()[:3]"
      ]
    },
    {
      "cell_type": "markdown",
      "metadata": {
        "id": "-vTBdv9Rw5Mc"
      },
      "source": [
        "## 4. Batch Prediction"
      ]
    },
    {
      "cell_type": "markdown",
      "metadata": {
        "id": "EHq-nDx8w5Mc"
      },
      "source": [
        "- Set model and directory parameters:"
      ]
    },
    {
      "cell_type": "code",
      "execution_count": null,
      "metadata": {
        "id": "9BsY2d6Mw5Mc"
      },
      "outputs": [],
      "source": [
        "model_type = \"yolov5\"\n",
        "model_path = yolov5_model_path\n",
        "model_device = \"cpu\" # or 'cuda:0'\n",
        "model_confidence_threshold = 0.4\n",
        "\n",
        "slice_height = 256\n",
        "slice_width = 256\n",
        "overlap_height_ratio = 0.2\n",
        "overlap_width_ratio = 0.2\n",
        "\n",
        "source_image_dir = \"demo_data/\""
      ]
    },
    {
      "cell_type": "markdown",
      "metadata": {
        "id": "tJZ7IXvww5Mc"
      },
      "source": [
        "- Perform sliced inference on given folder:"
      ]
    },
    {
      "cell_type": "code",
      "execution_count": null,
      "metadata": {
        "id": "NppIjcVBw5Mc"
      },
      "outputs": [],
      "source": [
        "predict(\n",
        "    model_type=model_type,\n",
        "    model_path=model_path,\n",
        "    model_device=model_device,\n",
        "    model_confidence_threshold=model_confidence_threshold,\n",
        "    source=source_image_dir,\n",
        "    slice_height=slice_height,\n",
        "    slice_width=slice_width,\n",
        "    overlap_height_ratio=overlap_height_ratio,\n",
        "    overlap_width_ratio=overlap_width_ratio,\n",
        ")"
      ]
    },
    {
      "cell_type": "code",
      "execution_count": null,
      "metadata": {
        "id": "qxN4lbXCw5Mc"
      },
      "outputs": [],
      "source": []
    }
  ],
  "metadata": {
    "kernelspec": {
      "display_name": "Python 3.8.8 ('sahi')",
      "language": "python",
      "name": "python3"
    },
    "language_info": {
      "codemirror_mode": {
        "name": "ipython",
        "version": 3
      },
      "file_extension": ".py",
      "mimetype": "text/x-python",
      "name": "python",
      "nbconvert_exporter": "python",
      "pygments_lexer": "ipython3",
      "version": "3.8.8"
    },
    "vscode": {
      "interpreter": {
        "hash": "f2680c47b11e1b3873482f0b7ab37c9292181f84f7b4413a77eb41d52d22c05d"
      }
    },
    "colab": {
      "provenance": [],
      "include_colab_link": true
    }
  },
  "nbformat": 4,
  "nbformat_minor": 0
}